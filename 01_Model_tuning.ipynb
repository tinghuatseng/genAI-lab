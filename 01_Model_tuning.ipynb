{
 "cells": [
  {
   "cell_type": "markdown",
   "id": "e51223b0",
   "metadata": {
    "id": "e51223b0"
   },
   "source": [
    "# **模型調校（Model Tuning）**\n",
    "此份程式碼會提供針對某資料集的模型調校策略，以及比較其超參數的選擇。\n",
    "\n",
    "## 本章節內容大綱\n",
    "* ### [損失函數（Loss function）](#LossFunction)\n",
    "* ### [激活函數（Activation function）](#ActivationFunction)\n",
    "* ### [優化器（Optimizer）](#Optimizer)\n",
    "* ### [學習率（Learning rate）](#LearningRate)\n",
    "* ### [模型架構（Model architecture）](#ModelArchitecture)"
   ]
  },
  {
   "cell_type": "markdown",
   "id": "33255f75",
   "metadata": {
    "id": "33255f75"
   },
   "source": [
    "## 匯入套件"
   ]
  },
  {
   "cell_type": "code",
   "execution_count": 3,
   "id": "bac12f0a",
   "metadata": {
    "executionInfo": {
     "elapsed": 4328,
     "status": "ok",
     "timestamp": 1740634498969,
     "user": {
      "displayName": "CY Li",
      "userId": "11560903483017836470"
     },
     "user_tz": -480
    },
    "id": "bac12f0a"
   },
   "outputs": [
    {
     "ename": "ModuleNotFoundError",
     "evalue": "No module named 'numpy'",
     "output_type": "error",
     "traceback": [
      "\u001b[31m---------------------------------------------------------------------------\u001b[39m",
      "\u001b[31mModuleNotFoundError\u001b[39m                       Traceback (most recent call last)",
      "\u001b[36mCell\u001b[39m\u001b[36m \u001b[39m\u001b[32mIn[3]\u001b[39m\u001b[32m, line 1\u001b[39m\n\u001b[32m----> \u001b[39m\u001b[32m1\u001b[39m \u001b[38;5;28;01mimport\u001b[39;00m\u001b[38;5;250m \u001b[39m\u001b[34;01mnumpy\u001b[39;00m\u001b[38;5;250m \u001b[39m\u001b[38;5;28;01mas\u001b[39;00m\u001b[38;5;250m \u001b[39m\u001b[34;01mnp\u001b[39;00m\n\u001b[32m      2\u001b[39m \u001b[38;5;28;01mimport\u001b[39;00m\u001b[38;5;250m \u001b[39m\u001b[34;01mpandas\u001b[39;00m\u001b[38;5;250m \u001b[39m\u001b[38;5;28;01mas\u001b[39;00m\u001b[38;5;250m \u001b[39m\u001b[34;01mpd\u001b[39;00m\n\u001b[32m      3\u001b[39m \u001b[38;5;28;01mimport\u001b[39;00m\u001b[38;5;250m \u001b[39m\u001b[34;01mmatplotlib\u001b[39;00m\u001b[34;01m.\u001b[39;00m\u001b[34;01mpyplot\u001b[39;00m\u001b[38;5;250m \u001b[39m\u001b[38;5;28;01mas\u001b[39;00m\u001b[38;5;250m \u001b[39m\u001b[34;01mplt\u001b[39;00m\n",
      "\u001b[31mModuleNotFoundError\u001b[39m: No module named 'numpy'"
     ]
    }
   ],
   "source": [
    "import numpy as np\n",
    "import pandas as pd\n",
    "import matplotlib.pyplot as plt\n",
    "from tqdm.auto import tqdm\n",
    "\n",
    "# PyTorch 相關套件\n",
    "import torch\n",
    "import torch.nn as nn\n",
    "import torch.nn.functional as F"
   ]
  },
  {
   "cell_type": "markdown",
   "id": "495c8b24",
   "metadata": {
    "id": "495c8b24"
   },
   "source": [
    "## 創建資料集／載入資料集（Dataset Creating / Loading）"
   ]
  },
  {
   "cell_type": "code",
   "execution_count": 2,
   "id": "Ny4jdxCvv7XU",
   "metadata": {
    "executionInfo": {
     "elapsed": 884,
     "status": "ok",
     "timestamp": 1740634532567,
     "user": {
      "displayName": "CY Li",
      "userId": "11560903483017836470"
     },
     "user_tz": -480
    },
    "id": "Ny4jdxCvv7XU"
   },
   "outputs": [],
   "source": [
    "# 上傳資料\n",
    "!wget -q https://github.com/TA-aiacademy/course_3.0/releases/download/DL/Data_part3.zip\n",
    "!unzip -q Data_part3.zip"
   ]
  },
  {
   "cell_type": "code",
   "execution_count": 3,
   "id": "899342e7",
   "metadata": {
    "executionInfo": {
     "elapsed": 3838,
     "status": "ok",
     "timestamp": 1740634632363,
     "user": {
      "displayName": "CY Li",
      "userId": "11560903483017836470"
     },
     "user_tz": -480
    },
    "id": "899342e7"
   },
   "outputs": [],
   "source": [
    "train_df = pd.read_csv('./Data/News_train.csv')\n",
    "test_df = pd.read_csv('./Data/News_test.csv')"
   ]
  },
  {
   "cell_type": "code",
   "execution_count": 4,
   "id": "8be123e5",
   "metadata": {
    "colab": {
     "base_uri": "https://localhost:8080/",
     "height": 256
    },
    "executionInfo": {
     "elapsed": 236,
     "status": "ok",
     "timestamp": 1740634634988,
     "user": {
      "displayName": "CY Li",
      "userId": "11560903483017836470"
     },
     "user_tz": -480
    },
    "id": "8be123e5",
    "outputId": "c08805ed-e868-4af6-a739-1239ebd4c08b"
   },
   "outputs": [
    {
     "data": {
      "application/vnd.google.colaboratory.intrinsic+json": {
       "type": "dataframe",
       "variable_name": "train_df"
      },
      "text/html": [
       "\n",
       "  <div id=\"df-15db9239-b03d-4eb4-afbe-e7ea4f10e788\" class=\"colab-df-container\">\n",
       "    <div>\n",
       "<style scoped>\n",
       "    .dataframe tbody tr th:only-of-type {\n",
       "        vertical-align: middle;\n",
       "    }\n",
       "\n",
       "    .dataframe tbody tr th {\n",
       "        vertical-align: top;\n",
       "    }\n",
       "\n",
       "    .dataframe thead th {\n",
       "        text-align: right;\n",
       "    }\n",
       "</style>\n",
       "<table border=\"1\" class=\"dataframe\">\n",
       "  <thead>\n",
       "    <tr style=\"text-align: right;\">\n",
       "      <th></th>\n",
       "      <th>shr</th>\n",
       "      <th>revs</th>\n",
       "      <th>note</th>\n",
       "      <th>banks</th>\n",
       "      <th>oper</th>\n",
       "      <th>avg</th>\n",
       "      <th>shrs</th>\n",
       "      <th>wheat</th>\n",
       "      <th>mths</th>\n",
       "      <th>gas</th>\n",
       "      <th>...</th>\n",
       "      <th>version</th>\n",
       "      <th>algerian</th>\n",
       "      <th>cement</th>\n",
       "      <th>263</th>\n",
       "      <th>seaway</th>\n",
       "      <th>restructured</th>\n",
       "      <th>night's</th>\n",
       "      <th>unknown</th>\n",
       "      <th>731</th>\n",
       "      <th>y_category</th>\n",
       "    </tr>\n",
       "  </thead>\n",
       "  <tbody>\n",
       "    <tr>\n",
       "      <th>0</th>\n",
       "      <td>0</td>\n",
       "      <td>0</td>\n",
       "      <td>0</td>\n",
       "      <td>0</td>\n",
       "      <td>0</td>\n",
       "      <td>0</td>\n",
       "      <td>0</td>\n",
       "      <td>0</td>\n",
       "      <td>0</td>\n",
       "      <td>0</td>\n",
       "      <td>...</td>\n",
       "      <td>0</td>\n",
       "      <td>0</td>\n",
       "      <td>0</td>\n",
       "      <td>0</td>\n",
       "      <td>0</td>\n",
       "      <td>0</td>\n",
       "      <td>0</td>\n",
       "      <td>0</td>\n",
       "      <td>0</td>\n",
       "      <td>0</td>\n",
       "    </tr>\n",
       "    <tr>\n",
       "      <th>1</th>\n",
       "      <td>0</td>\n",
       "      <td>0</td>\n",
       "      <td>0</td>\n",
       "      <td>0</td>\n",
       "      <td>0</td>\n",
       "      <td>0</td>\n",
       "      <td>0</td>\n",
       "      <td>0</td>\n",
       "      <td>0</td>\n",
       "      <td>0</td>\n",
       "      <td>...</td>\n",
       "      <td>0</td>\n",
       "      <td>0</td>\n",
       "      <td>0</td>\n",
       "      <td>0</td>\n",
       "      <td>0</td>\n",
       "      <td>0</td>\n",
       "      <td>0</td>\n",
       "      <td>0</td>\n",
       "      <td>0</td>\n",
       "      <td>1</td>\n",
       "    </tr>\n",
       "    <tr>\n",
       "      <th>2</th>\n",
       "      <td>1</td>\n",
       "      <td>0</td>\n",
       "      <td>1</td>\n",
       "      <td>0</td>\n",
       "      <td>0</td>\n",
       "      <td>1</td>\n",
       "      <td>1</td>\n",
       "      <td>0</td>\n",
       "      <td>0</td>\n",
       "      <td>0</td>\n",
       "      <td>...</td>\n",
       "      <td>0</td>\n",
       "      <td>0</td>\n",
       "      <td>0</td>\n",
       "      <td>0</td>\n",
       "      <td>0</td>\n",
       "      <td>0</td>\n",
       "      <td>0</td>\n",
       "      <td>0</td>\n",
       "      <td>0</td>\n",
       "      <td>0</td>\n",
       "    </tr>\n",
       "    <tr>\n",
       "      <th>3</th>\n",
       "      <td>0</td>\n",
       "      <td>0</td>\n",
       "      <td>0</td>\n",
       "      <td>0</td>\n",
       "      <td>0</td>\n",
       "      <td>0</td>\n",
       "      <td>0</td>\n",
       "      <td>0</td>\n",
       "      <td>0</td>\n",
       "      <td>0</td>\n",
       "      <td>...</td>\n",
       "      <td>0</td>\n",
       "      <td>0</td>\n",
       "      <td>0</td>\n",
       "      <td>0</td>\n",
       "      <td>0</td>\n",
       "      <td>0</td>\n",
       "      <td>0</td>\n",
       "      <td>0</td>\n",
       "      <td>0</td>\n",
       "      <td>1</td>\n",
       "    </tr>\n",
       "    <tr>\n",
       "      <th>4</th>\n",
       "      <td>0</td>\n",
       "      <td>0</td>\n",
       "      <td>0</td>\n",
       "      <td>0</td>\n",
       "      <td>0</td>\n",
       "      <td>0</td>\n",
       "      <td>0</td>\n",
       "      <td>0</td>\n",
       "      <td>0</td>\n",
       "      <td>0</td>\n",
       "      <td>...</td>\n",
       "      <td>0</td>\n",
       "      <td>0</td>\n",
       "      <td>0</td>\n",
       "      <td>0</td>\n",
       "      <td>0</td>\n",
       "      <td>0</td>\n",
       "      <td>0</td>\n",
       "      <td>0</td>\n",
       "      <td>0</td>\n",
       "      <td>1</td>\n",
       "    </tr>\n",
       "  </tbody>\n",
       "</table>\n",
       "<p>5 rows × 4082 columns</p>\n",
       "</div>\n",
       "    <div class=\"colab-df-buttons\">\n",
       "\n",
       "  <div class=\"colab-df-container\">\n",
       "    <button class=\"colab-df-convert\" onclick=\"convertToInteractive('df-15db9239-b03d-4eb4-afbe-e7ea4f10e788')\"\n",
       "            title=\"Convert this dataframe to an interactive table.\"\n",
       "            style=\"display:none;\">\n",
       "\n",
       "  <svg xmlns=\"http://www.w3.org/2000/svg\" height=\"24px\" viewBox=\"0 -960 960 960\">\n",
       "    <path d=\"M120-120v-720h720v720H120Zm60-500h600v-160H180v160Zm220 220h160v-160H400v160Zm0 220h160v-160H400v160ZM180-400h160v-160H180v160Zm440 0h160v-160H620v160ZM180-180h160v-160H180v160Zm440 0h160v-160H620v160Z\"/>\n",
       "  </svg>\n",
       "    </button>\n",
       "\n",
       "  <style>\n",
       "    .colab-df-container {\n",
       "      display:flex;\n",
       "      gap: 12px;\n",
       "    }\n",
       "\n",
       "    .colab-df-convert {\n",
       "      background-color: #E8F0FE;\n",
       "      border: none;\n",
       "      border-radius: 50%;\n",
       "      cursor: pointer;\n",
       "      display: none;\n",
       "      fill: #1967D2;\n",
       "      height: 32px;\n",
       "      padding: 0 0 0 0;\n",
       "      width: 32px;\n",
       "    }\n",
       "\n",
       "    .colab-df-convert:hover {\n",
       "      background-color: #E2EBFA;\n",
       "      box-shadow: 0px 1px 2px rgba(60, 64, 67, 0.3), 0px 1px 3px 1px rgba(60, 64, 67, 0.15);\n",
       "      fill: #174EA6;\n",
       "    }\n",
       "\n",
       "    .colab-df-buttons div {\n",
       "      margin-bottom: 4px;\n",
       "    }\n",
       "\n",
       "    [theme=dark] .colab-df-convert {\n",
       "      background-color: #3B4455;\n",
       "      fill: #D2E3FC;\n",
       "    }\n",
       "\n",
       "    [theme=dark] .colab-df-convert:hover {\n",
       "      background-color: #434B5C;\n",
       "      box-shadow: 0px 1px 3px 1px rgba(0, 0, 0, 0.15);\n",
       "      filter: drop-shadow(0px 1px 2px rgba(0, 0, 0, 0.3));\n",
       "      fill: #FFFFFF;\n",
       "    }\n",
       "  </style>\n",
       "\n",
       "    <script>\n",
       "      const buttonEl =\n",
       "        document.querySelector('#df-15db9239-b03d-4eb4-afbe-e7ea4f10e788 button.colab-df-convert');\n",
       "      buttonEl.style.display =\n",
       "        google.colab.kernel.accessAllowed ? 'block' : 'none';\n",
       "\n",
       "      async function convertToInteractive(key) {\n",
       "        const element = document.querySelector('#df-15db9239-b03d-4eb4-afbe-e7ea4f10e788');\n",
       "        const dataTable =\n",
       "          await google.colab.kernel.invokeFunction('convertToInteractive',\n",
       "                                                    [key], {});\n",
       "        if (!dataTable) return;\n",
       "\n",
       "        const docLinkHtml = 'Like what you see? Visit the ' +\n",
       "          '<a target=\"_blank\" href=https://colab.research.google.com/notebooks/data_table.ipynb>data table notebook</a>'\n",
       "          + ' to learn more about interactive tables.';\n",
       "        element.innerHTML = '';\n",
       "        dataTable['output_type'] = 'display_data';\n",
       "        await google.colab.output.renderOutput(dataTable, element);\n",
       "        const docLink = document.createElement('div');\n",
       "        docLink.innerHTML = docLinkHtml;\n",
       "        element.appendChild(docLink);\n",
       "      }\n",
       "    </script>\n",
       "  </div>\n",
       "\n",
       "\n",
       "<div id=\"df-b0ed78ed-3e40-4217-8854-b78fdc65949a\">\n",
       "  <button class=\"colab-df-quickchart\" onclick=\"quickchart('df-b0ed78ed-3e40-4217-8854-b78fdc65949a')\"\n",
       "            title=\"Suggest charts\"\n",
       "            style=\"display:none;\">\n",
       "\n",
       "<svg xmlns=\"http://www.w3.org/2000/svg\" height=\"24px\"viewBox=\"0 0 24 24\"\n",
       "     width=\"24px\">\n",
       "    <g>\n",
       "        <path d=\"M19 3H5c-1.1 0-2 .9-2 2v14c0 1.1.9 2 2 2h14c1.1 0 2-.9 2-2V5c0-1.1-.9-2-2-2zM9 17H7v-7h2v7zm4 0h-2V7h2v10zm4 0h-2v-4h2v4z\"/>\n",
       "    </g>\n",
       "</svg>\n",
       "  </button>\n",
       "\n",
       "<style>\n",
       "  .colab-df-quickchart {\n",
       "      --bg-color: #E8F0FE;\n",
       "      --fill-color: #1967D2;\n",
       "      --hover-bg-color: #E2EBFA;\n",
       "      --hover-fill-color: #174EA6;\n",
       "      --disabled-fill-color: #AAA;\n",
       "      --disabled-bg-color: #DDD;\n",
       "  }\n",
       "\n",
       "  [theme=dark] .colab-df-quickchart {\n",
       "      --bg-color: #3B4455;\n",
       "      --fill-color: #D2E3FC;\n",
       "      --hover-bg-color: #434B5C;\n",
       "      --hover-fill-color: #FFFFFF;\n",
       "      --disabled-bg-color: #3B4455;\n",
       "      --disabled-fill-color: #666;\n",
       "  }\n",
       "\n",
       "  .colab-df-quickchart {\n",
       "    background-color: var(--bg-color);\n",
       "    border: none;\n",
       "    border-radius: 50%;\n",
       "    cursor: pointer;\n",
       "    display: none;\n",
       "    fill: var(--fill-color);\n",
       "    height: 32px;\n",
       "    padding: 0;\n",
       "    width: 32px;\n",
       "  }\n",
       "\n",
       "  .colab-df-quickchart:hover {\n",
       "    background-color: var(--hover-bg-color);\n",
       "    box-shadow: 0 1px 2px rgba(60, 64, 67, 0.3), 0 1px 3px 1px rgba(60, 64, 67, 0.15);\n",
       "    fill: var(--button-hover-fill-color);\n",
       "  }\n",
       "\n",
       "  .colab-df-quickchart-complete:disabled,\n",
       "  .colab-df-quickchart-complete:disabled:hover {\n",
       "    background-color: var(--disabled-bg-color);\n",
       "    fill: var(--disabled-fill-color);\n",
       "    box-shadow: none;\n",
       "  }\n",
       "\n",
       "  .colab-df-spinner {\n",
       "    border: 2px solid var(--fill-color);\n",
       "    border-color: transparent;\n",
       "    border-bottom-color: var(--fill-color);\n",
       "    animation:\n",
       "      spin 1s steps(1) infinite;\n",
       "  }\n",
       "\n",
       "  @keyframes spin {\n",
       "    0% {\n",
       "      border-color: transparent;\n",
       "      border-bottom-color: var(--fill-color);\n",
       "      border-left-color: var(--fill-color);\n",
       "    }\n",
       "    20% {\n",
       "      border-color: transparent;\n",
       "      border-left-color: var(--fill-color);\n",
       "      border-top-color: var(--fill-color);\n",
       "    }\n",
       "    30% {\n",
       "      border-color: transparent;\n",
       "      border-left-color: var(--fill-color);\n",
       "      border-top-color: var(--fill-color);\n",
       "      border-right-color: var(--fill-color);\n",
       "    }\n",
       "    40% {\n",
       "      border-color: transparent;\n",
       "      border-right-color: var(--fill-color);\n",
       "      border-top-color: var(--fill-color);\n",
       "    }\n",
       "    60% {\n",
       "      border-color: transparent;\n",
       "      border-right-color: var(--fill-color);\n",
       "    }\n",
       "    80% {\n",
       "      border-color: transparent;\n",
       "      border-right-color: var(--fill-color);\n",
       "      border-bottom-color: var(--fill-color);\n",
       "    }\n",
       "    90% {\n",
       "      border-color: transparent;\n",
       "      border-bottom-color: var(--fill-color);\n",
       "    }\n",
       "  }\n",
       "</style>\n",
       "\n",
       "  <script>\n",
       "    async function quickchart(key) {\n",
       "      const quickchartButtonEl =\n",
       "        document.querySelector('#' + key + ' button');\n",
       "      quickchartButtonEl.disabled = true;  // To prevent multiple clicks.\n",
       "      quickchartButtonEl.classList.add('colab-df-spinner');\n",
       "      try {\n",
       "        const charts = await google.colab.kernel.invokeFunction(\n",
       "            'suggestCharts', [key], {});\n",
       "      } catch (error) {\n",
       "        console.error('Error during call to suggestCharts:', error);\n",
       "      }\n",
       "      quickchartButtonEl.classList.remove('colab-df-spinner');\n",
       "      quickchartButtonEl.classList.add('colab-df-quickchart-complete');\n",
       "    }\n",
       "    (() => {\n",
       "      let quickchartButtonEl =\n",
       "        document.querySelector('#df-b0ed78ed-3e40-4217-8854-b78fdc65949a button');\n",
       "      quickchartButtonEl.style.display =\n",
       "        google.colab.kernel.accessAllowed ? 'block' : 'none';\n",
       "    })();\n",
       "  </script>\n",
       "</div>\n",
       "\n",
       "    </div>\n",
       "  </div>\n"
      ],
      "text/plain": [
       "   shr  revs  note  banks  oper  avg  shrs  wheat  mths  gas  ...  version  \\\n",
       "0    0     0     0      0     0    0     0      0     0    0  ...        0   \n",
       "1    0     0     0      0     0    0     0      0     0    0  ...        0   \n",
       "2    1     0     1      0     0    1     1      0     0    0  ...        0   \n",
       "3    0     0     0      0     0    0     0      0     0    0  ...        0   \n",
       "4    0     0     0      0     0    0     0      0     0    0  ...        0   \n",
       "\n",
       "   algerian  cement  263  seaway  restructured  night's  unknown  731  \\\n",
       "0         0       0    0       0             0        0        0    0   \n",
       "1         0       0    0       0             0        0        0    0   \n",
       "2         0       0    0       0             0        0        0    0   \n",
       "3         0       0    0       0             0        0        0    0   \n",
       "4         0       0    0       0             0        0        0    0   \n",
       "\n",
       "   y_category  \n",
       "0           0  \n",
       "1           1  \n",
       "2           0  \n",
       "3           1  \n",
       "4           1  \n",
       "\n",
       "[5 rows x 4082 columns]"
      ]
     },
     "execution_count": 4,
     "metadata": {},
     "output_type": "execute_result"
    }
   ],
   "source": [
    "train_df.head()"
   ]
  },
  {
   "cell_type": "markdown",
   "id": "e37d2723",
   "metadata": {
    "id": "e37d2723"
   },
   "source": [
    "* #### 新聞文章資料集\n",
    "訓練集，測試集分別為 7728，1907 筆，4081 種常用字詞，若在同一篇新聞中出現該字詞為 1，若否則為 0，y_category 標記文章類別，共 11 種類別。"
   ]
  },
  {
   "cell_type": "code",
   "execution_count": null,
   "id": "7aace4ec",
   "metadata": {
    "id": "7aace4ec"
   },
   "outputs": [],
   "source": [
    "X_df = train_df.iloc[:, :-1].values\n",
    "y_df = train_df.y_category.values"
   ]
  },
  {
   "cell_type": "code",
   "execution_count": null,
   "id": "2fdea65d",
   "metadata": {
    "id": "2fdea65d"
   },
   "outputs": [],
   "source": [
    "X_test = test_df.iloc[:, :-1].values\n",
    "y_test = test_df.y_category.values"
   ]
  },
  {
   "cell_type": "markdown",
   "id": "a5ca0f5f",
   "metadata": {
    "id": "a5ca0f5f"
   },
   "source": [
    "## 資料前處理（Data Preprocessing）"
   ]
  },
  {
   "cell_type": "code",
   "execution_count": null,
   "id": "2ead5bdb",
   "metadata": {
    "id": "2ead5bdb"
   },
   "outputs": [],
   "source": [
    "from sklearn.preprocessing import StandardScaler, MinMaxScaler\n",
    "# 特徵縮放 Feature scaling\n",
    "sc = StandardScaler()\n",
    "X_scale = sc.fit_transform(X_df, y_df)\n",
    "X_test_scale = sc.transform(X_test)"
   ]
  },
  {
   "cell_type": "code",
   "execution_count": null,
   "id": "b00c5e3a",
   "metadata": {
    "id": "b00c5e3a"
   },
   "outputs": [],
   "source": [
    "# 切分資料集 train, valid/test\n",
    "from sklearn.model_selection import train_test_split\n",
    "X_train, X_valid, y_train, y_valid = train_test_split(X_scale, y_df,\n",
    "                                                      test_size=0.2,\n",
    "                                                      random_state=5566,\n",
    "                                                      stratify=y_df)"
   ]
  },
  {
   "cell_type": "code",
   "execution_count": null,
   "id": "6be0c87c",
   "metadata": {
    "id": "6be0c87c"
   },
   "outputs": [],
   "source": [
    "print(f'X_train shape: {X_train.shape}')\n",
    "print(f'X_valid shape: {X_valid.shape}')\n",
    "print(f'y_train shape: {y_train.shape}')\n",
    "print(f'y_valid shape: {y_valid.shape}')"
   ]
  },
  {
   "cell_type": "markdown",
   "id": "yG81iTrUSwbH",
   "metadata": {
    "id": "yG81iTrUSwbH"
   },
   "source": [
    "## torch.utils.data.TensorDataset\n",
    "\n",
    "### 簡介\n",
    "`torch.utils.data.TensorDataset` 是 PyTorch 中的一種數據集包裝器，用於將多個 `Tensor` 組合成一個數據集，方便與 `DataLoader` 配合使用。\n",
    "\n",
    "### 使用方式\n",
    "`TensorDataset` 將多個 `Tensor` 以索引方式組合，使得可以像索引列表一樣訪問數據。\n",
    "\n",
    "### 參數\n",
    "`TensorDataset(*tensors)`\n",
    "- `*tensors`: 一個或多個 `Tensor`，它們的第一個維度大小需相同。\n",
    "\n",
    "### 主要功能\n",
    "- 將多個 `Tensor` 組合成可索引的數據集。\n",
    "- 方便與 `DataLoader` 一起使用進行批次加載。\n",
    "\n",
    "### 應用場景\n",
    "- 適用於監督學習場景，將輸入數據與標籤配對。\n",
    "- 可用於小型數據集的快速加載。\n",
    "- `TensorDataset` 是 PyTorch 提供的一種簡單的數據集包裝器。\n",
    "- 允許將多個 `Tensor` 組合在一起，以索引方式訪問。\n",
    "- 可與 `DataLoader` 搭配使用，支持批量加載與隨機打亂。\n",
    "\n",
    "這使得處理簡單的 Tensor 數據變得更加方便。"
   ]
  },
  {
   "cell_type": "code",
   "execution_count": null,
   "id": "5jS0tCO_36E-",
   "metadata": {
    "id": "5jS0tCO_36E-"
   },
   "outputs": [],
   "source": [
    "# build dataset and dataloader\n",
    "train_ds = torch.utils.data.TensorDataset(torch.tensor(X_train, dtype=torch.float32),\n",
    "                                          torch.tensor(y_train, dtype=torch.long))\n",
    "valid_ds = torch.utils.data.TensorDataset(torch.tensor(X_valid, dtype=torch.float32),\n",
    "                                          torch.tensor(y_valid, dtype=torch.long))\n",
    "\n",
    "BATCH_SIZE = 64\n",
    "train_loader = torch.utils.data.DataLoader(train_ds, batch_size=BATCH_SIZE, shuffle=True)\n",
    "valid_loader = torch.utils.data.DataLoader(valid_ds, batch_size=BATCH_SIZE)"
   ]
  },
  {
   "cell_type": "markdown",
   "id": "02cf5671",
   "metadata": {
    "id": "02cf5671"
   },
   "source": [
    "## 模型建置（Model Building）"
   ]
  },
  {
   "cell_type": "code",
   "execution_count": null,
   "id": "VL3_42mD4eLI",
   "metadata": {
    "id": "VL3_42mD4eLI"
   },
   "outputs": [],
   "source": [
    "NUM_CLASS = 11"
   ]
  },
  {
   "cell_type": "code",
   "execution_count": null,
   "id": "fc6e3e67",
   "metadata": {
    "id": "fc6e3e67"
   },
   "outputs": [],
   "source": [
    "torch.manual_seed(5566)\n",
    "\n",
    "def build_model(input_shape, num_class):\n",
    "    model = nn.Sequential(\n",
    "        nn.Linear(input_shape, 16),\n",
    "        nn.Sigmoid(),\n",
    "        nn.Linear(16, 16),\n",
    "        nn.Sigmoid(),\n",
    "        nn.Linear(16, num_class),\n",
    "    )\n",
    "    return model"
   ]
  },
  {
   "cell_type": "code",
   "execution_count": null,
   "id": "5a41671f",
   "metadata": {
    "id": "5a41671f"
   },
   "outputs": [],
   "source": [
    "model = build_model(X_train.shape[1], NUM_CLASS)\n",
    "print(model)"
   ]
  },
  {
   "cell_type": "markdown",
   "id": "fce8b56e",
   "metadata": {
    "id": "fce8b56e"
   },
   "source": [
    "## 模型訓練（Model Training）"
   ]
  },
  {
   "cell_type": "code",
   "execution_count": null,
   "id": "CD6tVSdq4woX",
   "metadata": {
    "id": "CD6tVSdq4woX"
   },
   "outputs": [],
   "source": [
    "optimizer = torch.optim.RMSprop(model.parameters(), lr=0.001)\n",
    "loss_fn = nn.CrossEntropyLoss() # 多元分類損失函數\n",
    "\n",
    "device = torch.device('cuda' if torch.cuda.is_available() else 'cpu')\n",
    "print(f'device: {device}')\n",
    "model = model.to(device)"
   ]
  },
  {
   "cell_type": "code",
   "execution_count": null,
   "id": "CNAM22hQ5C4T",
   "metadata": {
    "id": "CNAM22hQ5C4T"
   },
   "outputs": [],
   "source": [
    "def train_epoch(model, optimizer, loss_fn, train_dataloader, val_dataloader):\n",
    "    # 訓練一輪\n",
    "    model.train()\n",
    "    total_train_loss = 0\n",
    "    total_train_correct = 0\n",
    "    for x, y in tqdm(train_dataloader, leave=False):\n",
    "        x, y = x.to(device), y.to(device) # 將資料移至GPU\n",
    "        y_pred = model(x) # 計算預測值\n",
    "        if type(loss_fn) != nn.CrossEntropyLoss:\n",
    "            y_pred = F.softmax(y_pred, dim=1)\n",
    "            y = F.one_hot(y, num_classes=NUM_CLASS).float() # one-hot encoding\n",
    "        loss = loss_fn(y_pred, y) # 計算誤差\n",
    "        optimizer.zero_grad() # 梯度歸零\n",
    "        loss.backward() # 反向傳播計算梯度\n",
    "        optimizer.step() # 更新模型參數\n",
    "\n",
    "        total_train_loss += loss.item()\n",
    "        if type(loss_fn) != nn.CrossEntropyLoss:\n",
    "            y = y.argmax(dim=1).long()\n",
    "        # 利用argmax計算最大值是第n個類別，與解答比對是否相同\n",
    "        total_train_correct += ((y_pred.argmax(dim=1) == y).sum().item())\n",
    "\n",
    "    # 驗證一輪\n",
    "    model.eval()\n",
    "    total_val_loss = 0\n",
    "    total_val_correct = 0\n",
    "    # 關閉梯度計算以加速\n",
    "    with torch.no_grad():\n",
    "        for x, y in val_dataloader:\n",
    "            x, y = x.to(device), y.to(device)\n",
    "            y_pred = model(x)\n",
    "            if type(loss_fn) != nn.CrossEntropyLoss:\n",
    "                y_pred = F.softmax(y_pred, dim=1)\n",
    "                y = F.one_hot(y, num_classes=NUM_CLASS).float() # one-hot encoding\n",
    "            loss = loss_fn(y_pred, y)\n",
    "            total_val_loss += loss.item()\n",
    "            # 利用argmax計算最大值是第n個類別，與解答比對是否相同\n",
    "            if type(loss_fn) != nn.CrossEntropyLoss:\n",
    "                y = y.argmax(dim=1).long()\n",
    "            total_val_correct += ((y_pred.argmax(dim=1) == y).sum().item())\n",
    "\n",
    "    avg_train_loss = total_train_loss / len(train_dataloader)\n",
    "    avg_train_acc = total_train_correct / len(train_dataloader.dataset)\n",
    "    avg_val_loss = total_val_loss / len(val_dataloader)\n",
    "    avg_val_acc = total_val_correct / len(val_dataloader.dataset)\n",
    "\n",
    "    return avg_train_loss, avg_val_loss, avg_train_acc, avg_val_acc"
   ]
  },
  {
   "cell_type": "code",
   "execution_count": null,
   "id": "YNKeBk_n5Fn9",
   "metadata": {
    "id": "YNKeBk_n5Fn9"
   },
   "outputs": [],
   "source": [
    "def run(model, optimizer, loss_fn, train_loader, valid_loader, verbose=1):\n",
    "    train_loss_log = []\n",
    "    val_loss_log = []\n",
    "    train_acc_log = []\n",
    "    val_acc_log = []\n",
    "    for epoch in tqdm(range(20)):\n",
    "        avg_train_loss, avg_val_loss, avg_train_acc, avg_val_acc = train_epoch(model, optimizer, loss_fn, train_loader, valid_loader)\n",
    "        train_loss_log.append(avg_train_loss)\n",
    "        val_loss_log.append(avg_val_loss)\n",
    "        train_acc_log.append(avg_train_acc)\n",
    "        val_acc_log.append(avg_val_acc)\n",
    "        if verbose == 1:\n",
    "            print(f'Epoch: {epoch}, Train Loss: {avg_train_loss:.3f}, Val Loss: {avg_val_loss:.3f} | Train Acc: {avg_train_acc:.3f}, Val Acc: {avg_val_acc:.3f}')\n",
    "    return train_loss_log, train_acc_log, val_loss_log, val_acc_log"
   ]
  },
  {
   "cell_type": "code",
   "execution_count": null,
   "id": "gFOsC-0M8Auw",
   "metadata": {
    "id": "gFOsC-0M8Auw"
   },
   "outputs": [],
   "source": [
    "train_loss_log, train_acc_log, val_loss_log, val_acc_log = run(model, optimizer, loss_fn, train_loader, valid_loader)"
   ]
  },
  {
   "cell_type": "markdown",
   "id": "48403507",
   "metadata": {
    "id": "48403507"
   },
   "source": [
    "## 模型評估（Model Evaluation）"
   ]
  },
  {
   "cell_type": "code",
   "execution_count": null,
   "id": "16a070b5",
   "metadata": {
    "id": "16a070b5"
   },
   "outputs": [],
   "source": [
    "plt.figure(figsize=(15, 4))\n",
    "plt.subplot(1, 2, 1)\n",
    "plt.plot(range(len(train_loss_log)), train_loss_log, label='train_loss')\n",
    "plt.plot(range(len(val_loss_log)), val_loss_log, label='valid_loss')\n",
    "plt.xlabel('Epochs')\n",
    "plt.ylabel('Binary crossentropy')\n",
    "plt.legend()\n",
    "\n",
    "plt.subplot(1, 2, 2)\n",
    "plt.plot(range(len(train_acc_log)), train_acc_log, label='train_acc')\n",
    "plt.plot(range(len(val_acc_log)), val_acc_log, label='valid_acc')\n",
    "plt.xlabel('Epochs')\n",
    "plt.ylabel('Accuracy')\n",
    "plt.legend()\n",
    "plt.show()"
   ]
  },
  {
   "cell_type": "markdown",
   "id": "98120751",
   "metadata": {
    "id": "98120751"
   },
   "source": [
    "## 模型調校"
   ]
  },
  {
   "cell_type": "markdown",
   "id": "0316d055",
   "metadata": {
    "id": "0316d055"
   },
   "source": [
    "![](https://hackmd.io/_uploads/SyE5RYIbT.png)\n"
   ]
  },
  {
   "cell_type": "markdown",
   "id": "ed21b1b9",
   "metadata": {
    "id": "ed21b1b9"
   },
   "source": [
    "<a name=\"LossFuction\"></a>\n",
    "* ## 損失函數（Loss function）\n",
    "torch.nn Loss function: https://pytorch.org/docs/stable/nn.html#loss-functions"
   ]
  },
  {
   "cell_type": "code",
   "execution_count": null,
   "id": "a4ab32b2",
   "metadata": {
    "id": "a4ab32b2"
   },
   "outputs": [],
   "source": [
    "# 以下放置要比較的 loss function\n",
    "loss_funcs = [\n",
    "    nn.MSELoss(),\n",
    "    nn.CrossEntropyLoss(),\n",
    "    nn.L1Loss(), # mean absolute error\n",
    "]\n",
    "\n",
    "# 建立兩個 list 記錄選用不同 loss function 的訓練結果\n",
    "all_loss, all_acc = [], []\n",
    "\n",
    "# 迭代不同的 loss function 去訓練模型\n",
    "for loss_fn in loss_funcs:\n",
    "    print(f'Running model, loss = {loss_fn}')\n",
    "\n",
    "    # 確保每次都是訓練新的模型，而不是接續上一輪的模型\n",
    "    model = build_model(X_train.shape[1], NUM_CLASS)\n",
    "\n",
    "    optimizer = torch.optim.RMSprop(model.parameters(), lr=0.001)\n",
    "    model = model.to(device)\n",
    "\n",
    "    # # 確保每次都設定一樣的參數\n",
    "    history = run(model, optimizer, loss_fn, train_loader, valid_loader, verbose=0)\n",
    "\n",
    "    # 將訓練過程記錄下來\n",
    "    all_loss.append(history[0])\n",
    "    all_acc.append(history[1])\n",
    "print('----------------- training done! -----------------')"
   ]
  },
  {
   "cell_type": "code",
   "execution_count": null,
   "id": "e5ddd8df",
   "metadata": {
    "id": "e5ddd8df"
   },
   "outputs": [],
   "source": [
    "# 視覺化訓練過程\n",
    "plt.figure(figsize=(15, 7))\n",
    "\n",
    "# 繪製 Training loss\n",
    "plt.subplot(121)\n",
    "for k in range(len(loss_funcs)):\n",
    "    plt.plot(range(len(all_loss[k])), all_loss[k], label=loss_funcs[k])\n",
    "plt.title('Loss')\n",
    "\n",
    "# 繪製 Training accuracy\n",
    "plt.subplot(122)\n",
    "for k in range(len(loss_funcs)):\n",
    "    plt.plot(range(len(all_acc[k])), all_acc[k], label=loss_funcs[k])\n",
    "plt.title('Accuracy')\n",
    "\n",
    "plt.legend(bbox_to_anchor=(1.05, 1), loc=2, borderaxespad=2.)\n",
    "plt.ylim((0, 1))\n",
    "plt.show()"
   ]
  },
  {
   "cell_type": "markdown",
   "id": "48d4b3d2",
   "metadata": {
    "id": "48d4b3d2"
   },
   "source": [
    "---\n",
    "![](https://hackmd.io/_uploads/BknsRtLZa.png)\n",
    "\n",
    "---"
   ]
  },
  {
   "cell_type": "markdown",
   "id": "51977b51",
   "metadata": {
    "id": "51977b51"
   },
   "source": [
    "<a name=\"ActivationFuction\"></a>\n",
    "* ## 激活函數（Activation function）\n",
    "torch.nn: https://pytorch.org/docs/stable/nn.html#non-linear-activations-weighted-sum-nonlinearity"
   ]
  },
  {
   "cell_type": "code",
   "execution_count": null,
   "id": "e0dc4d8c",
   "metadata": {
    "id": "e0dc4d8c"
   },
   "outputs": [],
   "source": [
    "def build_model_activation(input_shape, num_class, activation):\n",
    "    torch.manual_seed(5566)\n",
    "    # 重新建構一個可以更改 Activation 的模型\n",
    "    model = nn.Sequential(\n",
    "        nn.Linear(input_shape, 16),\n",
    "        activation(),\n",
    "        nn.Linear(16, 16),\n",
    "        activation(),\n",
    "        nn.Linear(16, num_class),\n",
    "    )\n",
    "    return model"
   ]
  },
  {
   "cell_type": "code",
   "execution_count": null,
   "id": "e95785db",
   "metadata": {
    "id": "e95785db"
   },
   "outputs": [],
   "source": [
    "# 以下放置要比較的 activation function\n",
    "activation_funcs = [\n",
    "    nn.Identity,\n",
    "    nn.Sigmoid,\n",
    "    nn.Tanh,\n",
    "    nn.ReLU,\n",
    "    nn.Softplus,\n",
    "    nn.LeakyReLU,\n",
    "    nn.Mish,\n",
    "]\n",
    "\n",
    "# 建立兩個 list 記錄選用不同 activation function 的訓練結果\n",
    "all_loss, all_acc = [], []\n",
    "\n",
    "# 迭代不同的 activation function 去訓練模型\n",
    "for activation_f in activation_funcs:\n",
    "    print(f'Running model, activation = {activation_f}')\n",
    "\n",
    "    # 確保每次都是訓練新的模型，而不是接續上一輪的模型\n",
    "    model = build_model_activation(X_train.shape[1],\n",
    "                                   NUM_CLASS,\n",
    "                                   activation_f)\n",
    "    model = model.to(device)\n",
    "    optimizer = torch.optim.RMSprop(model.parameters(), lr=0.001)\n",
    "    loss_fn = nn.CrossEntropyLoss() # 多元分類損失函數\n",
    "\n",
    "    history = run(model, optimizer, loss_fn, train_loader, valid_loader, verbose=0)\n",
    "\n",
    "    # 將訓練過程記錄下來\n",
    "    all_loss.append(history[0])\n",
    "    all_acc.append(history[1])\n",
    "print('----------------- training done! -----------------')"
   ]
  },
  {
   "cell_type": "code",
   "execution_count": null,
   "id": "b428c947",
   "metadata": {
    "id": "b428c947"
   },
   "outputs": [],
   "source": [
    "# 視覺化訓練過程\n",
    "plt.figure(figsize=(15, 7))\n",
    "\n",
    "# 繪製 Training loss\n",
    "plt.subplot(121)\n",
    "for k in range(len(activation_funcs)):\n",
    "    plt.plot(range(len(all_loss[k])), all_loss[k], label=activation_funcs[k])\n",
    "plt.title('Loss')\n",
    "\n",
    "# 繪製 Training accuracy\n",
    "plt.subplot(122)\n",
    "for k in range(len(activation_funcs)):\n",
    "    plt.plot(range(len(all_acc[k])), all_acc[k], label=activation_funcs[k])\n",
    "plt.title('Accuracy')\n",
    "\n",
    "plt.legend(bbox_to_anchor=(1.05, 1), loc=2, borderaxespad=0.)\n",
    "\n",
    "plt.ylim((0, 1))\n",
    "plt.show()"
   ]
  },
  {
   "cell_type": "code",
   "execution_count": null,
   "id": "6a37ff70",
   "metadata": {
    "id": "6a37ff70"
   },
   "outputs": [],
   "source": [
    "# 視覺化訓練過程\n",
    "plt.figure(figsize=(15, 4))\n",
    "\n",
    "# 繪製 Training loss\n",
    "plt.subplot(121)\n",
    "for k in range(len(activation_funcs)):\n",
    "    plt.plot(range(len(all_loss[k])), all_loss[k], label=activation_funcs[k])\n",
    "plt.title('Loss')\n",
    "plt.ylim((0, 0.3))\n",
    "\n",
    "# 繪製 Training accuracy\n",
    "plt.subplot(122)\n",
    "for k in range(len(activation_funcs)):\n",
    "    plt.plot(range(len(all_acc[k])), all_acc[k], label=activation_funcs[k])\n",
    "plt.title('Accuracy')\n",
    "\n",
    "plt.legend(bbox_to_anchor=(1.05, 1), loc=2, borderaxespad=0.)\n",
    "\n",
    "plt.ylim((0.95, 0.975))\n",
    "plt.show()"
   ]
  },
  {
   "cell_type": "markdown",
   "id": "4b3f2f31",
   "metadata": {
    "id": "4b3f2f31"
   },
   "source": [
    "---\n",
    "![](https://hackmd.io/_uploads/BJ1pAY8bT.png)\n",
    "\n",
    "---"
   ]
  },
  {
   "cell_type": "markdown",
   "id": "aa781738",
   "metadata": {
    "id": "aa781738"
   },
   "source": [
    "<a name=\"Optimizer\"></a>\n",
    "* ## 優化器（Optimizer）\n",
    "torch.optim: https://pytorch.org/docs/stable/optim.html#algorithms"
   ]
  },
  {
   "cell_type": "code",
   "execution_count": null,
   "id": "0d1d383c",
   "metadata": {
    "id": "0d1d383c"
   },
   "outputs": [],
   "source": [
    "# 以下放置要比較的 optimizer\n",
    "optimizer_funcs = [\n",
    "    torch.optim.SGD,\n",
    "    torch.optim.RMSprop,\n",
    "    torch.optim.Adam,\n",
    "    torch.optim.NAdam,\n",
    "]\n",
    "\n",
    "# 建立兩個 list 記錄選用不同 optimizer 的訓練結果\n",
    "all_loss, all_acc = [], []\n",
    "\n",
    "# 迭代不同的 optimizer 去訓練模型\n",
    "for optimizer_f in optimizer_funcs:\n",
    "    print(f'Running model, optimizer = {optimizer_f}')\n",
    "\n",
    "    # 確保每次都是訓練新的模型，而不是接續上一輪的模型\n",
    "    model = build_model_activation(X_train.shape[1],\n",
    "                                   NUM_CLASS,\n",
    "                                   nn.Tanh)\n",
    "    model = model.to(device)\n",
    "    optimizer = optimizer_f(model.parameters())\n",
    "    loss_fn = nn.CrossEntropyLoss() # 多元分類損失函數\n",
    "\n",
    "    # 確保每次都設定一樣的參數\n",
    "    history = run(model, optimizer, loss_fn, train_loader, valid_loader, verbose=0)\n",
    "    # 將訓練過程記錄下來\n",
    "    all_loss.append(history[0])\n",
    "    all_acc.append(history[1])\n",
    "\n",
    "print('----------------- training done! -----------------')"
   ]
  },
  {
   "cell_type": "code",
   "execution_count": null,
   "id": "5b8f7cf3",
   "metadata": {
    "id": "5b8f7cf3"
   },
   "outputs": [],
   "source": [
    "# 視覺化訓練過程\n",
    "plt.figure(figsize=(15, 7))\n",
    "\n",
    "# 繪製 Training loss\n",
    "plt.subplot(121)\n",
    "for k in range(len(optimizer_funcs)):\n",
    "    plt.plot(range(len(all_loss[k])), all_loss[k], label=optimizer_funcs[k])\n",
    "plt.title('Loss')\n",
    "\n",
    "# 繪製 Training accuracy\n",
    "plt.subplot(122)\n",
    "for k in range(len(optimizer_funcs)):\n",
    "    plt.plot(range(len(all_acc[k])), all_acc[k], label=optimizer_funcs[k])\n",
    "plt.title('Accuracy')\n",
    "\n",
    "plt.legend(bbox_to_anchor=(1.05, 1), loc=2, borderaxespad=2.)\n",
    "plt.ylim((0, 1))\n",
    "plt.show()"
   ]
  },
  {
   "cell_type": "markdown",
   "id": "21e99f51",
   "metadata": {
    "id": "21e99f51"
   },
   "source": [
    "<a name=\"LearningRate\"></a>\n",
    "* ## 學習率（Learning rate）"
   ]
  },
  {
   "cell_type": "code",
   "execution_count": null,
   "id": "f2cff10b",
   "metadata": {
    "id": "f2cff10b"
   },
   "outputs": [],
   "source": [
    "# 以下放置要比較的 learning rate\n",
    "lr_list = [0.1, 0.01, 0.001, 0.0001, 0.00001]\n",
    "\n",
    "# 建立兩個 list 記錄選用不同 learning rate 的訓練結果\n",
    "all_loss, all_acc = [], []\n",
    "\n",
    "# 迭代不同的 learning rate 去訓練模型\n",
    "for lr in lr_list:\n",
    "    print(f'Running model, learning rate = {lr}')\n",
    "\n",
    "    # 確保每次都是訓練新的模型，而不是接續上一輪的模型\n",
    "    model = build_model_activation(X_train.shape[1],\n",
    "                                   NUM_CLASS,\n",
    "                                   nn.Tanh)\n",
    "    model = model.to(device)\n",
    "    optimizer = optimizer_f(model.parameters(), lr=lr)\n",
    "    loss_fn = nn.CrossEntropyLoss() # 多元分類損失函數\n",
    "\n",
    "    # 確保每次都設定一樣的參數\n",
    "    history = run(model, optimizer, loss_fn, train_loader, valid_loader, verbose=0)\n",
    "    # 將訓練過程記錄下來\n",
    "    all_loss.append(history[0])\n",
    "    all_acc.append(history[1])\n",
    "print('----------------- training done! -----------------')"
   ]
  },
  {
   "cell_type": "code",
   "execution_count": null,
   "id": "288def33",
   "metadata": {
    "id": "288def33"
   },
   "outputs": [],
   "source": [
    "# 視覺化訓練過程\n",
    "plt.figure(figsize=(15, 7))\n",
    "\n",
    "# 繪製 Training loss\n",
    "plt.subplot(121)\n",
    "for k in range(len(lr_list)):\n",
    "    plt.plot(range(len(all_loss[k])), all_loss[k], label=lr_list[k])\n",
    "plt.title('Loss')\n",
    "\n",
    "# 繪製 Training accuracy\n",
    "plt.subplot(122)\n",
    "for k in range(len(lr_list)):\n",
    "    plt.plot(range(len(all_acc[k])), all_acc[k], label=lr_list[k])\n",
    "plt.title('Accuracy')\n",
    "\n",
    "plt.legend(bbox_to_anchor=(1.05, 1), loc=2, borderaxespad=2.)\n",
    "plt.ylim((0, 1))\n",
    "plt.show()"
   ]
  },
  {
   "cell_type": "markdown",
   "id": "615b9c7b",
   "metadata": {
    "id": "615b9c7b"
   },
   "source": [
    "<a name=\"ModelArchitecture\"></a>\n",
    "* ## 模型架構（Model architecture）"
   ]
  },
  {
   "cell_type": "code",
   "execution_count": null,
   "id": "5bfb7e23",
   "metadata": {
    "id": "5bfb7e23"
   },
   "outputs": [],
   "source": [
    "import torch\n",
    "import torch.nn as nn\n",
    "\n",
    "def build_model_architecture(input_shape, num_class, layer, neuron):\n",
    "    \"\"\"\n",
    "    建立一個簡單的全連接神經網路 (Fully Connected Neural Network)\n",
    "\n",
    "    參數：\n",
    "    - input_shape: 輸入層的特徵數量（即輸入維度）\n",
    "    - num_class: 最終輸出的類別數（適用於分類問題）\n",
    "    - layer: 隱藏層的數量\n",
    "    - neuron: 每個隱藏層的神經元數量\n",
    "\n",
    "    回傳：\n",
    "    - model: 由 PyTorch nn.Sequential 建立的神經網路模型\n",
    "    \"\"\"\n",
    "\n",
    "    torch.manual_seed(5566)  # 設定隨機種子，確保結果可重現\n",
    "\n",
    "    layers = []  # 存放神經網路層的列表\n",
    "    input_dim = input_shape  # 初始輸入維度設定為 input_shape\n",
    "\n",
    "    # 建立指定數量的隱藏層\n",
    "    for i in range(layer):\n",
    "        layers.append(nn.Linear(input_dim, neuron))  # 全連接層\n",
    "        layers.append(nn.Tanh())  # 使用 Tanh 作為非線性激活函數\n",
    "        input_dim = neuron  # 更新下一層的輸入維度\n",
    "\n",
    "    # 最終輸出層（連接到分類數）\n",
    "    layers.append(nn.Linear(input_dim, num_class))\n",
    "\n",
    "    model = nn.Sequential(*layers)  # 將所有層包裝成 nn.Sequential 模型\n",
    "    return model"
   ]
  },
  {
   "cell_type": "code",
   "execution_count": null,
   "id": "bb933a0d",
   "metadata": {
    "id": "bb933a0d"
   },
   "outputs": [],
   "source": [
    "# 以下放置要比較的 layers/ neurons\n",
    "layers_num = [1, 2, 3]\n",
    "neurons_num = [16, 32, 64]\n",
    "\n",
    "batch_size = 64\n",
    "epochs = 20\n",
    "\n",
    "# 建立兩個 list 記錄選用不同 layers/ neurons 的訓練結果\n",
    "all_loss, all_acc = [], []\n",
    "\n",
    "# 迭代不同的 layers/ neurons 去訓練模型\n",
    "for layer in layers_num:\n",
    "    for neuron in neurons_num:\n",
    "        print(f'Running model, (layer, neuron) = {(layer, neuron)}')\n",
    "\n",
    "        # 確保每次都是訓練新的模型，而不是接續上一輪的模型\n",
    "        model = build_model_architecture(X_train.shape[1],\n",
    "                                         NUM_CLASS,\n",
    "                                         layer,\n",
    "                                         neuron)\n",
    "        model = model.to(device)\n",
    "        optimizer = torch.optim.NAdam(model.parameters())\n",
    "\n",
    "        # 確保每次都設定一樣的參數\n",
    "        history = run(model, optimizer, loss_fn, train_loader, valid_loader, verbose=0)\n",
    "        # 將訓練過程記錄下來\n",
    "        all_loss.append(history[0])\n",
    "        all_acc.append(history[1])\n",
    "print('----------------- training done! -----------------')"
   ]
  },
  {
   "cell_type": "code",
   "execution_count": null,
   "id": "74298636",
   "metadata": {
    "id": "74298636"
   },
   "outputs": [],
   "source": [
    "layer_neuron = list(zip(sum([[i]*3 for i in layers_num], []), neurons_num*3))\n",
    "\n",
    "# 視覺化訓練過程\n",
    "plt.figure(figsize=(15, 7))\n",
    "\n",
    "# 繪製 Training loss\n",
    "plt.subplot(121)\n",
    "for k in range(len(layer_neuron)):\n",
    "    plt.plot(range(len(all_loss[k])), all_loss[k], label=layer_neuron[k])\n",
    "plt.title('Loss')\n",
    "\n",
    "# 繪製 Training accuracy\n",
    "plt.subplot(122)\n",
    "for k in range(len(layer_neuron)):\n",
    "    plt.plot(range(len(all_acc[k])), all_acc[k], label=layer_neuron[k])\n",
    "plt.title('Accuracy')\n",
    "\n",
    "plt.legend(bbox_to_anchor=(1.05, 1), loc=2, borderaxespad=0.)\n",
    "\n",
    "plt.ylim((0, 1))\n",
    "plt.show()"
   ]
  },
  {
   "cell_type": "code",
   "execution_count": null,
   "id": "8e5036b3",
   "metadata": {
    "id": "8e5036b3"
   },
   "outputs": [],
   "source": [
    "# 視覺化訓練過程\n",
    "plt.figure(figsize=(15, 4))\n",
    "\n",
    "# 繪製 Training loss\n",
    "plt.subplot(121)\n",
    "for k in range(len(layer_neuron)):\n",
    "    plt.plot(range(len(all_loss[k])), all_loss[k], label=layer_neuron[k])\n",
    "plt.title('Loss')\n",
    "plt.ylim((0.05, 0.1))\n",
    "\n",
    "# 繪製 Training accuracy\n",
    "plt.subplot(122)\n",
    "for k in range(len(layer_neuron)):\n",
    "    plt.plot(range(len(all_acc[k])), all_acc[k], label=layer_neuron[k])\n",
    "plt.title('Accuracy')\n",
    "\n",
    "plt.legend(bbox_to_anchor=(1.05, 1), loc=2, borderaxespad=0.)\n",
    "plt.ylim((0.96, 1.))\n",
    "plt.show()"
   ]
  },
  {
   "cell_type": "markdown",
   "id": "5227388a",
   "metadata": {
    "id": "5227388a"
   },
   "source": [
    "---\n",
    "### Quiz\n",
    "請試著利用 Data/pkgo_train.csv 做多元分類問題，預測五個種類的 pokemon，並調整模型（網路層數、神經元數目、激活函數）以及訓練相關的參數得到更高的準確度。"
   ]
  },
  {
   "cell_type": "code",
   "execution_count": null,
   "id": "5a3be942",
   "metadata": {
    "id": "5a3be942"
   },
   "outputs": [],
   "source": []
  }
 ],
 "metadata": {
  "accelerator": "GPU",
  "colab": {
   "provenance": []
  },
  "gpuClass": "standard",
  "kernelspec": {
   "display_name": ".venv",
   "language": "python",
   "name": "python3"
  },
  "language_info": {
   "codemirror_mode": {
    "name": "ipython",
    "version": 3
   },
   "file_extension": ".py",
   "mimetype": "text/x-python",
   "name": "python",
   "nbconvert_exporter": "python",
   "pygments_lexer": "ipython3",
   "version": "3.13.2"
  }
 },
 "nbformat": 4,
 "nbformat_minor": 5
}
